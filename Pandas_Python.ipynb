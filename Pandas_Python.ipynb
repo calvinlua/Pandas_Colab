{
  "nbformat": 4,
  "nbformat_minor": 0,
  "metadata": {
    "colab": {
      "name": "Pandas Python ",
      "provenance": [],
      "toc_visible": true,
      "include_colab_link": true
    },
    "kernelspec": {
      "name": "python3",
      "display_name": "Python 3"
    },
    "language_info": {
      "name": "python"
    }
  },
  "cells": [
    {
      "cell_type": "markdown",
      "metadata": {
        "id": "view-in-github",
        "colab_type": "text"
      },
      "source": [
        "<a href=\"https://colab.research.google.com/github/calvinlua/Pandas_Colab/blob/main/Pandas_Python.ipynb\" target=\"_parent\"><img src=\"https://colab.research.google.com/assets/colab-badge.svg\" alt=\"Open In Colab\"/></a>"
      ]
    },
    {
      "cell_type": "markdown",
      "source": [
        "# Pandas Learning Cheat Sheet\n",
        "[W3School](https://www.w3schools.com/python/pandas/pandas_dataframes.asp)\n",
        "\n",
        "\n"
      ],
      "metadata": {
        "id": "TSWgTkxg-Ro5"
      }
    },
    {
      "cell_type": "markdown",
      "source": [
        "### Versioning\n",
        "Check Version of numpy and pandas library used"
      ],
      "metadata": {
        "id": "MurkzcXA9kVW"
      }
    },
    {
      "cell_type": "code",
      "execution_count": 1,
      "metadata": {
        "colab": {
          "base_uri": "https://localhost:8080/"
        },
        "id": "sg5bhJva4z6W",
        "outputId": "12033b2c-4bea-4fdd-83c4-b192200925af"
      },
      "outputs": [
        {
          "output_type": "stream",
          "name": "stdout",
          "text": [
            "pandas version:1.3.5\n",
            "numpy version:1.21.6\n"
          ]
        }
      ],
      "source": [
        "import pandas as pd \n",
        "import numpy as np\n",
        "print(\"pandas version:\" + pd.__version__)\n",
        "print(\"numpy version:\" +np.__version__)"
      ]
    },
    {
      "cell_type": "markdown",
      "source": [
        "## Pandas - Basic Walkthrough"
      ],
      "metadata": {
        "id": "HJlLLZio-_g2"
      }
    },
    {
      "cell_type": "markdown",
      "source": [
        "### 1.1 Create dataframe \n",
        "\n",
        "\n",
        "---\n",
        "\n",
        "\n",
        "Create table with raw data with `panda.dataframe`\n"
      ],
      "metadata": {
        "id": "O8gTMGGM8VLf"
      }
    },
    {
      "cell_type": "code",
      "source": [
        "mydataset = {\n",
        "  'cars': [\"BMW\", \"Volvo\", \"Ford\"],\n",
        "  'passings': [3, 7, 2]\n",
        "}\n",
        "\n",
        "myvar = pd.DataFrame(mydataset)\n",
        "print(myvar)"
      ],
      "metadata": {
        "colab": {
          "base_uri": "https://localhost:8080/"
        },
        "id": "PXLizf928UbX",
        "outputId": "6dcd7b20-cbdf-4366-c13c-f0137cdd3029"
      },
      "execution_count": 2,
      "outputs": [
        {
          "output_type": "stream",
          "name": "stdout",
          "text": [
            "    cars  passings\n",
            "0    BMW         3\n",
            "1  Volvo         7\n",
            "2   Ford         2\n"
          ]
        }
      ]
    },
    {
      "cell_type": "markdown",
      "source": [
        "### 1.2 Pandas Series\n",
        "\n",
        "\n",
        "---\n",
        "\n",
        "What is a Series?\n",
        "A Pandas Series is like a column in a table.\n",
        "\n",
        "It is a one-dimensional array holding data of any type."
      ],
      "metadata": {
        "id": "YSp6126Q_jHk"
      }
    },
    {
      "cell_type": "code",
      "source": [
        "a = [1, 7, 2]\n",
        "myvar = pd.Series(a)\n",
        "print(myvar)"
      ],
      "metadata": {
        "colab": {
          "base_uri": "https://localhost:8080/"
        },
        "id": "YHw88tfB_cz9",
        "outputId": "e7f31ab9-beb2-492a-aeb2-a7c0484fdf17"
      },
      "execution_count": 3,
      "outputs": [
        {
          "output_type": "stream",
          "name": "stdout",
          "text": [
            "0    1\n",
            "1    7\n",
            "2    2\n",
            "dtype: int64\n"
          ]
        }
      ]
    },
    {
      "cell_type": "markdown",
      "source": [
        "###1.3 Labels\n",
        "\n",
        "---\n",
        "\n",
        "\n",
        "\n",
        "If nothing else is specified, the values are labeled with their ***index number*** . First value has index 0, second value has index 1 etc.\n",
        "\n",
        "This label can be used to access a specified value."
      ],
      "metadata": {
        "id": "R2sRZnt_BF4F"
      }
    },
    {
      "cell_type": "code",
      "source": [
        "# Get value from index 1 \n",
        "print(myvar[0]) "
      ],
      "metadata": {
        "colab": {
          "base_uri": "https://localhost:8080/"
        },
        "id": "t6qfhIMmBHS1",
        "outputId": "ef121d1a-1f5a-42b0-a091-7d7f4eaff8b2"
      },
      "execution_count": 4,
      "outputs": [
        {
          "output_type": "stream",
          "name": "stdout",
          "text": [
            "1\n"
          ]
        }
      ]
    },
    {
      "cell_type": "markdown",
      "source": [
        "###1.4 Create Labels\n",
        "\n",
        "---\n",
        "\n",
        "\n",
        "With the index argument, you can name your own labels."
      ],
      "metadata": {
        "id": "JRAvaS3aBihc"
      }
    },
    {
      "cell_type": "code",
      "source": [
        "a = [1, 7, 2]\n",
        "# name index with \"x,y,z\" to reference to a[0],a[1],a[2]\n",
        "myvar = pd.Series(a, index = [\"x\", \"y\", \"z\"])\n",
        "print(myvar)"
      ],
      "metadata": {
        "colab": {
          "base_uri": "https://localhost:8080/"
        },
        "id": "dXl6-G_3Bh1o",
        "outputId": "2f4c8835-be4d-49b7-8321-536ad1124534"
      },
      "execution_count": 5,
      "outputs": [
        {
          "output_type": "stream",
          "name": "stdout",
          "text": [
            "x    1\n",
            "y    7\n",
            "z    2\n",
            "dtype: int64\n"
          ]
        }
      ]
    },
    {
      "cell_type": "markdown",
      "source": [
        "When you have created labels, you can access an item by referring to the label."
      ],
      "metadata": {
        "id": "FQtK2q5uCz88"
      }
    },
    {
      "cell_type": "code",
      "source": [
        "# Call data with index \"y\" ( must use in the form of string)\n",
        "print(myvar[\"y\"])"
      ],
      "metadata": {
        "colab": {
          "base_uri": "https://localhost:8080/"
        },
        "id": "UPNOerAWCjku",
        "outputId": "c67ee821-25fc-4ade-d744-2f6d621b9d73"
      },
      "execution_count": 6,
      "outputs": [
        {
          "output_type": "stream",
          "name": "stdout",
          "text": [
            "7\n"
          ]
        }
      ]
    },
    {
      "cell_type": "markdown",
      "source": [
        "###1.5 Key/Value Objects as Series\n",
        "\n",
        "\n",
        "---\n",
        "\n",
        "\n",
        "You can also use a key/value object, like a ***dictionary***, when creating a Series.\n",
        "> Note: The keys of the dictionary become the labels.\n",
        "\n"
      ],
      "metadata": {
        "id": "IlMFLGwOOx4A"
      }
    },
    {
      "cell_type": "code",
      "source": [
        "calories = {\"day1\": 420, \"day2\": 380, \"day3\": 390}\n",
        "myvar = pd.Series(calories)\n",
        "print(myvar)"
      ],
      "metadata": {
        "colab": {
          "base_uri": "https://localhost:8080/"
        },
        "id": "u6iWYtH1OxWx",
        "outputId": "b89b4000-68d7-46e0-bc61-509cf5d7788c"
      },
      "execution_count": 7,
      "outputs": [
        {
          "output_type": "stream",
          "name": "stdout",
          "text": [
            "day1    420\n",
            "day2    380\n",
            "day3    390\n",
            "dtype: int64\n"
          ]
        }
      ]
    },
    {
      "cell_type": "markdown",
      "source": [
        "Create a Series **using only** data from \"day1\" and \"day2\":"
      ],
      "metadata": {
        "id": "12ir740_QJMN"
      }
    },
    {
      "cell_type": "code",
      "source": [
        "calories = {\"day1\": 420, \"day2\": 380, \"day3\": 390}\n",
        "myvar = pd.Series(calories, index = [\"day1\", \"day2\"])\n",
        "print(myvar)"
      ],
      "metadata": {
        "colab": {
          "base_uri": "https://localhost:8080/"
        },
        "id": "C5Bsq96PQHcb",
        "outputId": "90ddbf2f-1d32-407c-e450-90e75480d21e"
      },
      "execution_count": 8,
      "outputs": [
        {
          "output_type": "stream",
          "name": "stdout",
          "text": [
            "day1    420\n",
            "day2    380\n",
            "dtype: int64\n"
          ]
        }
      ]
    },
    {
      "cell_type": "markdown",
      "source": [
        "### 1.6 DataFrames\n",
        "\n",
        "---\n",
        "\n",
        "\n",
        "Data sets in Pandas are usually multi-dimensional tables, called DataFrames.\n",
        "\n",
        "Series is like a column, a DataFrame is the whole table."
      ],
      "metadata": {
        "id": "N9Ru8opOQGZj"
      }
    },
    {
      "cell_type": "code",
      "source": [
        "read_data=pd.read_csv('https://storage.googleapis.com/tf-datasets/titanic/train.csv')\n",
        "column=read_data.pop('sex')\n",
        "print(column)"
      ],
      "metadata": {
        "colab": {
          "base_uri": "https://localhost:8080/"
        },
        "id": "y1_tt8MI5FJa",
        "outputId": "ad929f9b-8318-41de-e9bb-e68278384b87"
      },
      "execution_count": 13,
      "outputs": [
        {
          "output_type": "stream",
          "name": "stdout",
          "text": [
            "0        male\n",
            "1      female\n",
            "2      female\n",
            "3      female\n",
            "4        male\n",
            "        ...  \n",
            "622      male\n",
            "623      male\n",
            "624    female\n",
            "625    female\n",
            "626      male\n",
            "Name: sex, Length: 627, dtype: object\n"
          ]
        }
      ]
    },
    {
      "cell_type": "markdown",
      "source": [
        "### 1.7 What is a DataFrame?\n",
        "A Pandas DataFrame is a 2 dimensional data structure, like a 2 dimensional array, or a table with rows and columns.\n",
        "\n",
        ">Note: To store data structure in a single variable( like Data Structure in PLC"
      ],
      "metadata": {
        "id": "of8-xeSeVnVa"
      }
    },
    {
      "cell_type": "code",
      "source": [
        "\n",
        "data = {\n",
        "  \"calories\": [420, 380, 390],\n",
        "  \"duration\": [50, 40, 45]\n",
        "}\n",
        "\n",
        "#load data into a DataFrame object:\n",
        "df = pd.DataFrame(data)\n",
        "\n",
        "print(df) "
      ],
      "metadata": {
        "id": "LSpkx6iAVjhr",
        "outputId": "02a1d770-f575-4dc4-e69d-746579fa4b66",
        "colab": {
          "base_uri": "https://localhost:8080/"
        }
      },
      "execution_count": 12,
      "outputs": [
        {
          "output_type": "stream",
          "name": "stdout",
          "text": [
            "   calories  duration\n",
            "0       420        50\n",
            "1       380        40\n",
            "2       390        45\n"
          ]
        }
      ]
    }
  ]
}